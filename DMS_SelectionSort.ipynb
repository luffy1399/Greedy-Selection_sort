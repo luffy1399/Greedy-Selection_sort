{
 "cells": [
  {
   "cell_type": "code",
   "execution_count": 1,
   "id": "c45ff133",
   "metadata": {},
   "outputs": [
    {
     "name": "stdout",
     "output_type": "stream",
     "text": [
      "before sort :  [-5, -1, 4, -30, 30, 20, 1, 1, 5]\n",
      "after sort :  [-30, -5, -1, 1, 1, 4, 5, 20, 30]\n"
     ]
    }
   ],
   "source": [
    "\n",
    "def selection_sort(arr,size):\n",
    "    \n",
    "    for ind in range(size-1):\n",
    "        min=ind\n",
    "        for j in range(ind+1,size):\n",
    "            if arr[j]<arr[min]:\n",
    "                min=j\n",
    "            \n",
    "        (arr[ind],arr[min]) = (arr[min],arr[ind])    \n",
    "\n",
    "\n",
    "\n",
    "arr=[-5,-1,4,-30,30,20,1,1,5]\n",
    "size=len(arr)\n",
    "\n",
    "print(\"before sort : \",arr )\n",
    "selection_sort(arr,size)\n",
    "\n",
    "print(\"after sort : \",arr)"
   ]
  },
  {
   "cell_type": "code",
   "execution_count": null,
   "id": "b8a8b1bb",
   "metadata": {},
   "outputs": [],
   "source": []
  }
 ],
 "metadata": {
  "kernelspec": {
   "display_name": "Python 3 (ipykernel)",
   "language": "python",
   "name": "python3"
  },
  "language_info": {
   "codemirror_mode": {
    "name": "ipython",
    "version": 3
   },
   "file_extension": ".py",
   "mimetype": "text/x-python",
   "name": "python",
   "nbconvert_exporter": "python",
   "pygments_lexer": "ipython3",
   "version": "3.10.9"
  }
 },
 "nbformat": 4,
 "nbformat_minor": 5
}
